{
 "cells": [
  {
   "cell_type": "markdown",
   "metadata": {},
   "source": [
    "## Carbon emissions and Biomass tiles\n",
    "\n",
    "We need to create new tiles for [Global Forest Watch Climate](http://climate.globalforestwatch.org/map/6/-4.56/-49.92/ALL/grayscale/biomass_loss?begin=2001-01-01&end=2015-01-01&dont_analyze=true), from the [Woods Hold Research Centre above ground biomass](http://whrc.org/publications-data/datasets/national-biomass-and-carbon-dataset/).\n",
    "\n",
    "\n",
    "### Downscaling problem\n",
    "\n",
    "We need to downscale a time (integer year) array in conjunction with a quantity (amount of carbon released/ha) array. The downscaling problem is as follows:\n",
    "\n",
    "<img src=\"./src/problem_sketch.png\" alt=\"Drawing\" style=\"width: 500px;\"/>\n",
    "\n",
    "Such that, progressivley lower Z levels should contain the SUM of the quantity, and the year that relates to the largest quantity over all contributing mixels.\n",
    "\n",
    "### Data\n",
    "\n",
    "We will be using:\n",
    "* Above Ground Biomass (t/ha)\n",
    "* Using above ground biomass we convert (\\*0.5 \\*3.67) to Carbondioxide in biomass (tCO2/ha)\n",
    "* Hansen Forest Data: year of loss, and tree cover with canopy coverage (%)\n",
    "* A public-readable, masked Year loss dataset we created (`projects/wri-datalab/HansenBinaryYear_vizzuality`). These data are 0 (no loss) or 255 (loss), with a Sum pyramiding policy (important for QualityMosaic approach). \n",
    "\n",
    "We need to create a custom pyramiding policy for downscaling, so the lower-resolution tiles display 1) mean carbon or biomass, and 2) integer years that show the year of most loss within the pixel group of z-1.\n",
    "\n",
    "### Output\n",
    "\n",
    "These data will be encoded to a png, webmap. With the band data being:\n",
    "* 1/R: date of most loss (1 - 15 integer years)\n",
    "* 2/G: total biomass loss (scaled 0 - 255)\n",
    "* 3/B: carbon loss (scaled 0 - 255), this is calculated from the total biomass data using some multiplication factors.\n",
    "* 4/A: uncertainty data (scaled 0 - 255), these will be obtained from the WHRC later.\n",
    "\n",
    "\n",
    "##### Notes\n",
    "* Previous approaches to this problem used a quality mosaic. Create an image collection, where there is one image per year, and each image is made of the year_loss masked for the specific year, and reduced with a SUM.\n",
    "* Dave Thaus original approach: https://code.earthengine.google.com/dc7b57afe93471b2597458ae926024d9\n"
   ]
  },
  {
   "cell_type": "code",
   "execution_count": 1,
   "metadata": {
    "collapsed": true
   },
   "outputs": [],
   "source": [
    "import ee\n",
    "import ee\n",
    "import argparse\n",
    "import re\n",
    "from IPython.display import Image\n",
    "ee.Initialize()"
   ]
  },
  {
   "cell_type": "markdown",
   "metadata": {},
   "source": [
    "### Control variables"
   ]
  },
  {
   "cell_type": "code",
   "execution_count": 4,
   "metadata": {
    "collapsed": true
   },
   "outputs": [],
   "source": [
    "crs=\"EPSG:4326\"\n",
    "scale=27.829872698318393  # native resolution of the data in meters\n",
    "z_levels={0:156000,       # relates zoom to meters/pixel\n",
    "          1:78000,\n",
    "          2:39000,\n",
    "          3:20000,\n",
    "          4:10000,\n",
    "          5:4900,\n",
    "          6:2400,\n",
    "          7:1200,\n",
    "          8:611,\n",
    "          9:305,\n",
    "          10:152,\n",
    "          11:76,\n",
    "          12:38}\n",
    "max_pixels=65500\n",
    "full_intensity=255\n",
    "canopyThresh = 30\n",
    "thresholds=[10, 15, 20, 25, 30, 50, 75] # tree canopy thresholds \n"
   ]
  },
  {
   "cell_type": "markdown",
   "metadata": {},
   "source": [
    "### Declare Data \n",
    "\n",
    "<table style=\"width:100%\">\n",
    "  <tr>\n",
    "    <th style=\"text-align: left; width:30%\">Variable</th>\n",
    "    <th style=\"text-align: left\">Description</th> \n",
    "  </tr>\n",
    "  <tr>\n",
    "    <td style=\"text-align: left\">hansen_data</td>\n",
    "    <td style=\"text-align: left\">Original Hansen data V1.3 from UMD/hansen source</td> \n",
    "  </tr>\n",
    "  <tr>\n",
    "    <td style=\"text-align: left\">lossByYear</td>\n",
    "    <td style=\"text-align: left\">Mask of Hansen data (0 and 255), one band per year, Sum pyramiding policy.</td> \n",
    "  </tr>\n",
    "   <tr>\n",
    "    <td style=\"text-align: left\">loss_yr_where_canopy_threshold_met</td>\n",
    "    <td style=\"text-align: left\">The year of loss, for locations within a specified forest canopy threshold.</td> \n",
    "  </tr>\n",
    "</table>"
   ]
  },
  {
   "cell_type": "code",
   "execution_count": 5,
   "metadata": {},
   "outputs": [],
   "source": [
    "# Need to run this procedure for a specific % canopy cover (threshold). Specified in previous cell\n",
    "\n",
    "# Load in data resources here:\n",
    "# Get an image of tree loss, at a specific threshold.\n",
    "\n",
    "hansen_data = ee.Image('UMD/hansen/global_forest_change_2015_v1_3')\n",
    "tree_cover = hansen_data.select('treecover2000') #tree cover (as a percent - use the threshold to isolcate)\n",
    "tree_cover = tree_cover.mask(tree_cover)\n",
    "loss_mask = hansen_data.select('loss')\n",
    "loss_mask = loss_mask.mask(loss_mask) #loss is a mask 1 for loss, 0 for no loss\n",
    "loss_by_year = hansen_data.select('lossyear').mask(loss_mask) # masked integer year (-2000): 1 to 15 \n",
    "canopy_threshold_mask = tree_cover.gte(canopyThresh)\n",
    "threshold_forest = tree_cover.mask(canopy_threshold_mask) # tree cover of a specified canopyThreshold\n",
    "loss_yr_where_canopy_threshold_met = loss_by_year.mask(canopy_threshold_mask) # year where specified threshold\n",
    "loss_yr_where_canopy_threshold_met = loss_yr_where_canopy_threshold_met.mask(loss_yr_where_canopy_threshold_met)\n",
    "\n",
    "lossByYear = ee.Image('projects/wri-datalab/HansenBinaryYear_vizzuality')\n",
    "lossByYear = lossByYear.mask(lossByYear);\n",
    "\n",
    "# loss_yr_where_canopy_threshold_met  : Pixels with the years of interest "
   ]
  },
  {
   "cell_type": "code",
   "execution_count": 6,
   "metadata": {},
   "outputs": [
    {
     "data": {
      "text/html": [
       "<img src=\"https://earthengine.googleapis.com//api/thumb?thumbid=834dd59c234ae3b6ff30ee64490ea75f&token=075aca61430a92c2717d1eb3b424c4b7\"/>"
      ],
      "text/plain": [
       "<IPython.core.display.Image object>"
      ]
     },
     "execution_count": 6,
     "metadata": {},
     "output_type": "execute_result"
    }
   ],
   "source": [
    "# We can get some confirmation we have what we think we have by returning\n",
    "# visual data for a small area...\n",
    "point = ee.Geometry.Point(-53.8330078125,-3.9355003860137967)\n",
    "region_brazil = point.buffer(50000).bounds().getInfo()['coordinates']\n",
    "\n",
    "Image(url=loss_yr_where_canopy_threshold_met.getThumbUrl({\n",
    "    'region':region_brazil,\n",
    "    'bands':'lossyear',\n",
    "    'min':1,\n",
    "    'max':15,\n",
    "    'palette':'425cf4, 41f45b, f44141'\n",
    "}))"
   ]
  },
  {
   "cell_type": "markdown",
   "metadata": {},
   "source": [
    "### Biomass and Carbon data\n",
    "\n",
    "Unfortunatley these data are in pieces, with some discontinuties, and need to be constructed prior to use."
   ]
  },
  {
   "cell_type": "code",
   "execution_count": 7,
   "metadata": {
    "collapsed": true
   },
   "outputs": [],
   "source": [
    "uncertainty = ee.Image('users/davethau/whrc_carbon_test/uncertainty') # These data are old and should be replaced"
   ]
  },
  {
   "cell_type": "code",
   "execution_count": 8,
   "metadata": {
    "collapsed": true
   },
   "outputs": [],
   "source": [
    "neotropic = ee.Image('users/mfarina/Biomass_Data_MapV3/WHRC_Biomass_30m_Neotropic')\n",
    "africa = ee.Image('users/mfarina/Biomass_Data_MapV3/WHRC_Biomass_30m_Africa')\n",
    "australia = ee.Image('users/mfarina/Biomass_Data_MapV3/WHRC_Biomass_30m_Australia')\n",
    "tropasia = ee.Image('users/mfarina/Biomass_Data_MapV3/WHRC_Biomass_30m_Tropical_Asia')\n",
    "palearctic = ee.Image('users/mfarina/Biomass_Data_MapV3/WHRC_Biomass_30m_Palearctic')\n",
    "nearctic = ee.Image('users/mfarina/Biomass_Data_MapV3/WHRC_Biomass_30m_Nearctic')\n",
    "          \n",
    "# Combine the individual areas into a single collection\n",
    "ic = ee.ImageCollection([africa,australia, nearctic,neotropic, palearctic, tropasia])\n",
    "im = ic.max() # Now we have single image, but with discontinuties\n",
    "datamask = hansen_data.select('datamask')\n",
    "mask = datamask.eq(1)\n",
    "land = mask # Make a land image out of the mask\n",
    "landmask = im.mask(land) #  Mask land with itself to mask all the zeros (non-land)\n",
    "#make another collection from the landmask and the full coverage image\n",
    "ic_with_mask = ee.ImageCollection([landmask, im])\n",
    "# Finally convert that into a fully contingous image, with 0s where no data over land\n",
    "biomass = ic_with_mask.max() # biomass: 'Above Ground Biomass (t/ha)\n",
    "carbon = biomass.multiply(0.5).multiply(3.67);  #units: tCO2/ha (CO2 stored in above ground biomass)\n",
    "c_loss_at_canopy_threshold = carbon.mask(canopy_threshold_mask)\n",
    "c_loss_at_canopy_threshold = c_loss_at_canopy_threshold.mask(loss_yr_where_canopy_threshold_met)"
   ]
  },
  {
   "cell_type": "code",
   "execution_count": 9,
   "metadata": {},
   "outputs": [
    {
     "data": {
      "text/html": [
       "<img src=\"https://earthengine.googleapis.com//api/thumb?thumbid=da0d24aa58d66a966f7855d59d4f5b6d&token=27715e8468b36a4b9b4870f55aa9a9d7\"/>"
      ],
      "text/plain": [
       "<IPython.core.display.Image object>"
      ]
     },
     "execution_count": 9,
     "metadata": {},
     "output_type": "execute_result"
    }
   ],
   "source": [
    "# Show carbon stored in above ground biomass for the same area of Brazil as before,\n",
    "# masked by loss, for locations within our canopy threshold of interest.\n",
    "# I.E. All the pixels displayed represent carbon that has been lost (2001-2015) for a\n",
    "# specified forest canopy threshold.\n",
    "\n",
    "whrcPALETTE = \"75322B,607D34,305B1E,114610\"\n",
    "\n",
    "Image(url=c_loss_at_canopy_threshold.getThumbUrl({\n",
    "    'region':region_brazil,\n",
    "    'bands':'b1',\n",
    "    'min':1,\n",
    "    'max':900,\n",
    "    'palette': whrcPALETTE\n",
    "}))"
   ]
  },
  {
   "cell_type": "markdown",
   "metadata": {},
   "source": [
    "## Downscaling\n",
    "\n",
    "Now we have the threshold mask, yearloss, biomass, and carbon data we should be able to proceede.\n",
    "\n",
    "#### Control variables"
   ]
  },
  {
   "cell_type": "code",
   "execution_count": 11,
   "metadata": {
    "collapsed": true
   },
   "outputs": [],
   "source": [
    "def reduce(img_at_z_plus_1, z, reducer, z_max=12):\n",
    "    \"\"\"This takes the image fixed to a resolution of z+1, the z level, and a\n",
    "    specified reducer, e.g. ee.reducer.sum() and returns back a reudced image.\"\"\"\n",
    "    if (z==z_max): \n",
    "        return img_at_z_plus_1\n",
    "    else:\n",
    "        return img_at_z_plus_1.reproject(\n",
    "                    scale=z_levels[z+1],\n",
    "                    crs=crs\n",
    "            ).reduceResolution(\n",
    "                    reducer=reducer,\n",
    "                    maxPixels=max_pixels\n",
    "            ).reproject(\n",
    "                    scale=z_levels[z],\n",
    "                    crs=crs\n",
    "            )\n",
    "\n",
    "    \n",
    "def create_rgba_image(r,g,b,a):\n",
    "    \"\"\"This takes four single band images, and returns back a multi-band\n",
    "    image ready to be used as an RGB(A) export. The single band images\n",
    "    should already be converetd to 0-255 int values.\"\"\"\n",
    "    return ee.Image([r,g,b,a])\n",
    "\n",
    "\n",
    "def export_to_GCS(image, settings={}):\n",
    "    \"\"\"Here is where the image will be exported to Google Cloud Storage folder\"\"\"\n",
    "    print(f\"   Export to GCS: bucket/folder_{settings['threshold']}_{settings['z']}/<x>/<y>.png\\n\")\n",
    "    return"
   ]
  },
  {
   "cell_type": "markdown",
   "metadata": {},
   "source": [
    "Looks like the limitation of this approach is that it cant run Z-levels in iscolation. It seems to have to step progressivley to lower resolutions."
   ]
  },
  {
   "cell_type": "code",
   "execution_count": 30,
   "metadata": {},
   "outputs": [
    {
     "name": "stdout",
     "output_type": "stream",
     "text": [
      "Canopy threshold: 30. At native resolution: Z12, 38m/pix\n",
      "   Export to GCS: bucket/folder_30_12/<x>/<y>.png\n",
      "\n",
      "Canopy threshold: 30. Zoom 11: 76 m/pix\n",
      "   Export to GCS: bucket/folder_30_11/<x>/<y>.png\n",
      "\n",
      "Canopy threshold: 30. Zoom 10: 152 m/pix\n",
      "   Export to GCS: bucket/folder_30_10/<x>/<y>.png\n",
      "\n",
      "Canopy threshold: 30. Zoom 9: 305 m/pix\n",
      "   Export to GCS: bucket/folder_30_9/<x>/<y>.png\n",
      "\n",
      "Canopy threshold: 30. Zoom 8: 611 m/pix\n",
      "   Export to GCS: bucket/folder_30_8/<x>/<y>.png\n",
      "\n",
      "Canopy threshold: 30. Zoom 7: 1,200 m/pix\n",
      "   Export to GCS: bucket/folder_30_7/<x>/<y>.png\n",
      "\n",
      "Canopy threshold: 30. Zoom 6: 2,400 m/pix\n",
      "   Export to GCS: bucket/folder_30_6/<x>/<y>.png\n",
      "\n",
      "Canopy threshold: 30. Zoom 5: 4,900 m/pix\n",
      "   Export to GCS: bucket/folder_30_5/<x>/<y>.png\n",
      "\n",
      "Canopy threshold: 30. Zoom 4: 10,000 m/pix\n",
      "   Export to GCS: bucket/folder_30_4/<x>/<y>.png\n",
      "\n",
      "Canopy threshold: 30. Zoom 3: 20,000 m/pix\n",
      "   Export to GCS: bucket/folder_30_3/<x>/<y>.png\n",
      "\n",
      "Canopy threshold: 30. Zoom 2: 39,000 m/pix\n",
      "   Export to GCS: bucket/folder_30_2/<x>/<y>.png\n",
      "\n",
      "Canopy threshold: 30. Zoom 1: 78,000 m/pix\n",
      "   Export to GCS: bucket/folder_30_1/<x>/<y>.png\n",
      "\n",
      "Canopy threshold: 30. Zoom 0: 156,000 m/pix\n",
      "   Export to GCS: bucket/folder_30_0/<x>/<y>.png\n",
      "\n"
     ]
    }
   ],
   "source": [
    "tmp_biomass = None\n",
    "tmp_uncertainty = None\n",
    "tmp_carbon = None\n",
    "for z in sorted(z_levels.keys(), reverse=True):\n",
    "    if z == 12:\n",
    "        print(f\"Canopy threshold: {canopyThresh}. At native resolution: Z{z}, {z_levels[z]}m/pix\")\n",
    "        # No need to downsample here, we can just export the data at native resolution\n",
    "        # Create an image with biomass, carbon, yearloss, and uncertainty in bands (R,G,B,A)\n",
    "        scaled_c_loss = c_loss_at_canopy_threshold.divide(900).multiply(255).byte() # not sure 900 is max...\n",
    "        scaled_biomass = biomass.divide(400).multiply(255).byte() # not sure 400 is max...\n",
    "        tmp_img = create_rgba_image(r=loss_yr_where_canopy_threshold_met.byte(),\n",
    "                                    g=scaled_c_loss,\n",
    "                                    b=scaled_biomass,\n",
    "                                    a=uncertainty.byte())\n",
    "        # Problem here still: Need to find a way to rename the bands, to 0, 1, 2, 3 \n",
    "        export_to_GCS(tmp_img,settings={'threshold':canopyThresh, 'z':z})\n",
    "    else:\n",
    "        print(f\"Canopy threshold: {canopyThresh}. Zoom {z}: {z_levels[z]:,g} m/pix\")\n",
    "        # Downsample data here:\n",
    "        #\n",
    "        #  ------------------\n",
    "        #  Here should go the code for the custom YEAR downsampling ....\n",
    "        #  ------------------\n",
    "        #\n",
    "        \n",
    "        if tmp_carbon:  # if already looped and tmp_carbon exists, use the previous downscaled data\n",
    "            tmp_carbon = reduce(tmp_carbon, z, ee.Reducer.sum())\n",
    "        else:\n",
    "            tmp_carbon = reduce(c_loss_at_canopy_threshold, z, ee.Reducer.sum())\n",
    "            \n",
    "        if tmp_biomass:\n",
    "            tmp_biomass = reduce(tmp_biomass, z, ee.Reducer.sum())            \n",
    "        else:\n",
    "            tmp_biomass = reduce(biomass, z, ee.Reducer.sum())\n",
    "\n",
    "        if tmp_uncertainty:\n",
    "            tmp_uncertainty = reduce(tmp_uncertainty, z, ee.Reducer.mean())            \n",
    "        else:\n",
    "            tmp_uncertainty = reduce(uncertainty, z, ee.Reducer.mean())\n",
    "        scaled_c_loss = tmp_carbon.divide(900).multiply(255).byte() # again, not sure 900 is max...\n",
    "        scaled_biomass = tmp_biomass.divide(400).multiply(255).byte() # again, not sure 400 is max...        \n",
    "        tmp_img = create_rgba_image(r=None,\n",
    "                                    g=scaled_c_loss,\n",
    "                                    b=scaled_biomass,\n",
    "                                    a=tmp_uncertainty.byte())        \n",
    "        export_to_GCS(tmp_img,settings={'threshold':canopyThresh, 'z':z})\n",
    "        \n",
    "        #     special case of most loss year for loss year\n",
    "        # Create an image with biomass, carbon, yearloss, and uncertainty\n",
    "        #     image function: input images to place in bands (R,G,B,A)\n",
    "        # Export the ONE z level to GCS my_data_<threshold>_<z>/<x>/<y>.png\n",
    "\n",
    "    "
   ]
  },
  {
   "cell_type": "code",
   "execution_count": 27,
   "metadata": {},
   "outputs": [
    {
     "data": {
      "text/plain": [
       "{'bands': [{'crs': 'EPSG:4326',\n",
       "   'crs_transform': [0.00025, 0.0, -180.0, 0.0, -0.00025, 80.0],\n",
       "   'data_type': {'max': 255,\n",
       "    'min': 0,\n",
       "    'precision': 'int',\n",
       "    'type': 'PixelType'},\n",
       "   'dimensions': [1440000, 560000],\n",
       "   'id': 'lossyear'},\n",
       "  {'crs': 'EPSG:4326',\n",
       "   'crs_transform': [1.0, 0.0, 0.0, 0.0, 1.0, 0.0],\n",
       "   'data_type': {'max': 255,\n",
       "    'min': 0,\n",
       "    'precision': 'int',\n",
       "    'type': 'PixelType'},\n",
       "   'id': 'b1'},\n",
       "  {'crs': 'EPSG:4326',\n",
       "   'crs_transform': [1.0, 0.0, 0.0, 0.0, 1.0, 0.0],\n",
       "   'data_type': {'max': 255,\n",
       "    'min': 0,\n",
       "    'precision': 'int',\n",
       "    'type': 'PixelType'},\n",
       "   'id': 'b1_1'},\n",
       "  {'crs': 'EPSG:4326',\n",
       "   'crs_transform': [0.0002777777777996449,\n",
       "    0.0,\n",
       "    -117.50013889598083,\n",
       "    0.0,\n",
       "    -0.0002777777778031704,\n",
       "    30.0001388898888],\n",
       "   'data_type': {'max': 255,\n",
       "    'min': 0,\n",
       "    'precision': 'int',\n",
       "    'type': 'PixelType'},\n",
       "   'dimensions': [1035000, 216000],\n",
       "   'id': 'uncertainty'}],\n",
       " 'id': 'UMD/hansen/global_forest_change_2015_v1_3',\n",
       " 'properties': {'date_range': [946684800000.0, 1451606400000.0],\n",
       "  'description': \"<p>Results from time-series analysis of Landsat images characterizing forest extent and change.  Please see <a href='http://earthenginepartners.appspot.com/science-2013-global-forest/download_v1.3.html'> the User Notes for this Version 1.3 update</a>, as well as the associated journal article: Hansen, Potapov, Moore, Hancher et al. &ldquo;High-resolution global maps of 21st-century forest cover change.&rdquo; Science 342.6160 (2013): 850-853.</p> <p>Tree canopy cover for year 2000 (&ldquo;treecover2000&rdquo;) is defined as canopy closure for all vegetation taller than 5m in height and encoded as a percentage per output grid cell, in the range 0&ndash;100. Forest loss during the period 2000&ndash;2015 (&ldquo;loss&rdquo;) is defined as a stand-replacement disturbance, or a change from a forest to non-forest state, encoded as either 1 (loss) or 0 (no loss). Forest gain during the period 2000&ndash;2012 (&ldquo;gain&rdquo;) is defined as the inverse of loss, or a non-forest to forest change entirely within the study period. The year of gross forest cover loss (&ldquo;lossyear&rdquo;) is a disaggregation of total forest loss to annual time scales, encoded as either 0 (no loss) or else a value in the range 1&ndash;14, representing loss detected primarily in the year 2001&ndash;2015, respectively. The data mask (&ldquo;datamask&rdquo;) has three values representing areas of no data (0), mapped land surface (1), and permanent water bodies (2).</p> <p>Reference composite imagery represent median observations from a set of quality assessed growing season observations in four spectral bands, specifically Landsat ETM+ bands 3, 4, 5, and 7. Bands &ldquo;first_30&rdquo;, &ldquo;first_40&ldquo;, &ldquo;first_50&ldquo;, and &ldquo;first_70&ldquo; are reference multispectral imagery from the first available year, typically 2000. Bands &ldquo;last_30&rdquo;, &ldquo;last_40&ldquo;, &ldquo;last_50&ldquo;, and &ldquo;last_70&ldquo; are reference multispectral imagery from the last available year, typically 2014.<p> <p>This work is licensed under a Creative Commons Attribution 4.0 International License.</p> \",\n",
       "  'period': 0,\n",
       "  'provider': 'Hansen/UMD/Google/USGS/NASA',\n",
       "  'provider_url': 'http://earthenginepartners.appspot.com/science-2013-global-forest',\n",
       "  'system:asset_size': 1318508131911,\n",
       "  'system:footprint': {'coordinates': [[-180.0, -90.0],\n",
       "    [180.0, -90.0],\n",
       "    [180.0, 90.0],\n",
       "    [-180.0, 90.0],\n",
       "    [-180.0, -90.0]],\n",
       "   'type': 'LinearRing'},\n",
       "  'system:title': 'Hansen Global Forest Change v1.3 (2000-2015)',\n",
       "  'system:visualization_0_bands': 'loss,treecover2000,gain',\n",
       "  'system:visualization_0_max': '1,100,1',\n",
       "  'system:visualization_0_min': '0,0,0',\n",
       "  'system:visualization_0_name': 'Loss/Extent/Gain',\n",
       "  'tags': ['umd', 'hansen', 'forest', 'landsat', 'geophysical'],\n",
       "  'title': 'Hansen Global Forest Change v1.3 (2000-2015)'},\n",
       " 'type': 'Image',\n",
       " 'version': 1495815903481000}"
      ]
     },
     "execution_count": 27,
     "metadata": {},
     "output_type": "execute_result"
    }
   ],
   "source": [
    "# I Extracted info from tmp_image for z12 to test...\n",
    "\n",
    "tmp_img.getInfo()"
   ]
  },
  {
   "cell_type": "code",
   "execution_count": 29,
   "metadata": {},
   "outputs": [
    {
     "data": {
      "text/html": [
       "<img src=\"https://earthengine.googleapis.com//api/thumb?thumbid=5d88d8ffda9026e4662eeb32a0405970&token=35d66dd5452970043f8d6c9a4d60e8b3\"/>"
      ],
      "text/plain": [
       "<IPython.core.display.Image object>"
      ]
     },
     "execution_count": 29,
     "metadata": {},
     "output_type": "execute_result"
    }
   ],
   "source": [
    "Image(url=tmp_img.getThumbUrl({\n",
    "    'region':region_brazil,\n",
    "    'bands':'b1_1',  #<--- this looks bad still, need to re-name these bands somehow..\n",
    "    'min':1,\n",
    "    'max':255,\n",
    "}))"
   ]
  },
  {
   "cell_type": "code",
   "execution_count": null,
   "metadata": {
    "collapsed": true
   },
   "outputs": [],
   "source": []
  },
  {
   "cell_type": "code",
   "execution_count": null,
   "metadata": {
    "collapsed": true
   },
   "outputs": [],
   "source": []
  }
 ],
 "metadata": {
  "kernelspec": {
   "display_name": "Python 3",
   "language": "python",
   "name": "python3"
  },
  "language_info": {
   "codemirror_mode": {
    "name": "ipython",
    "version": 3
   },
   "file_extension": ".py",
   "mimetype": "text/x-python",
   "name": "python",
   "nbconvert_exporter": "python",
   "pygments_lexer": "ipython3",
   "version": "3.6.1"
  }
 },
 "nbformat": 4,
 "nbformat_minor": 2
}
